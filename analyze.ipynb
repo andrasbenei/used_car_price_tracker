{
 "cells": [
  {
   "cell_type": "code",
   "execution_count": 304,
   "metadata": {},
   "outputs": [],
   "source": [
    "import matplotlib.pyplot as plt\n",
    "import pandas as pd\n",
    "import seaborn as sns"
   ]
  },
  {
   "cell_type": "code",
   "execution_count": 305,
   "metadata": {},
   "outputs": [],
   "source": [
    "df = pd.read_csv('data.csv')"
   ]
  },
  {
   "cell_type": "markdown",
   "metadata": {},
   "source": [
    "# Backup information\n",
    "\n",
    "This is an analysis on the following data:\n",
    "- Data source: hasznaltauto.hu (biggest used-car site in Hungary)\n",
    "- Car type: Volkswagen Passat\n",
    "- Gearbox: automatic\n",
    "- Age of cars: between 2012 and 2022\n",
    "- Date of download: 1st October 2022\n",
    "\n",
    "Goal: find, measure and visualize connections between the Price and others Specifications (e.g. Mileage, Year, Fuel type)."
   ]
  },
  {
   "cell_type": "markdown",
   "metadata": {},
   "source": [
    "# EDA - Inspect, Clean and Validate the Dataset"
   ]
  },
  {
   "cell_type": "markdown",
   "metadata": {},
   "source": [
    "Check the first rows to get the first impression on the data: column names, data formats."
   ]
  },
  {
   "cell_type": "code",
   "execution_count": 306,
   "metadata": {},
   "outputs": [
    {
     "data": {
      "text/html": [
       "<div>\n",
       "<style scoped>\n",
       "    .dataframe tbody tr th:only-of-type {\n",
       "        vertical-align: middle;\n",
       "    }\n",
       "\n",
       "    .dataframe tbody tr th {\n",
       "        vertical-align: top;\n",
       "    }\n",
       "\n",
       "    .dataframe thead th {\n",
       "        text-align: right;\n",
       "    }\n",
       "</style>\n",
       "<table border=\"1\" class=\"dataframe\">\n",
       "  <thead>\n",
       "    <tr style=\"text-align: right;\">\n",
       "      <th></th>\n",
       "      <th>Price</th>\n",
       "      <th>Year</th>\n",
       "      <th>Power(HP)</th>\n",
       "      <th>Mileage(KM)</th>\n",
       "      <th>Description</th>\n",
       "      <th>Link</th>\n",
       "      <th>Fuel_type</th>\n",
       "    </tr>\n",
       "  </thead>\n",
       "  <tbody>\n",
       "    <tr>\n",
       "      <th>0</th>\n",
       "      <td>6995000</td>\n",
       "      <td>2016</td>\n",
       "      <td>150</td>\n",
       "      <td>110000</td>\n",
       "      <td>VOLKSWAGEN PASSAT 2.0 TDI Comfortline BMT DSG ...</td>\n",
       "      <td>https://www.hasznaltauto.hu/szemelyauto/volksw...</td>\n",
       "      <td>Dízel</td>\n",
       "    </tr>\n",
       "    <tr>\n",
       "      <th>1</th>\n",
       "      <td>3099999</td>\n",
       "      <td>2012</td>\n",
       "      <td>140</td>\n",
       "      <td>294000</td>\n",
       "      <td>VOLKSWAGEN PASSAT Variant 2.0 CR TDI Comfortli...</td>\n",
       "      <td>https://www.hasznaltauto.hu/szemelyauto/volksw...</td>\n",
       "      <td>Dízel</td>\n",
       "    </tr>\n",
       "    <tr>\n",
       "      <th>2</th>\n",
       "      <td>3599000</td>\n",
       "      <td>2012</td>\n",
       "      <td>122</td>\n",
       "      <td>238590</td>\n",
       "      <td>VOLKSWAGEN PASSAT VII Variant 1.4 TSI Comfortl...</td>\n",
       "      <td>https://www.hasznaltauto.hu/szemelyauto/volksw...</td>\n",
       "      <td>Benzin</td>\n",
       "    </tr>\n",
       "    <tr>\n",
       "      <th>3</th>\n",
       "      <td>3750000</td>\n",
       "      <td>2014</td>\n",
       "      <td>140</td>\n",
       "      <td>233100</td>\n",
       "      <td>VOLKSWAGEN PASSAT VII 2.0 CR TDI Comfortline B...</td>\n",
       "      <td>https://www.hasznaltauto.hu/szemelyauto/volksw...</td>\n",
       "      <td>Dízel</td>\n",
       "    </tr>\n",
       "    <tr>\n",
       "      <th>4</th>\n",
       "      <td>5950000</td>\n",
       "      <td>2016</td>\n",
       "      <td>150</td>\n",
       "      <td>176000</td>\n",
       "      <td>VOLKSWAGEN PASSAT VIII 2.0 TDI Comfortline BMT...</td>\n",
       "      <td>https://www.hasznaltauto.hu/szemelyauto/volksw...</td>\n",
       "      <td>Dízel</td>\n",
       "    </tr>\n",
       "  </tbody>\n",
       "</table>\n",
       "</div>"
      ],
      "text/plain": [
       "     Price  Year  Power(HP)  Mileage(KM)  \\\n",
       "0  6995000  2016        150       110000   \n",
       "1  3099999  2012        140       294000   \n",
       "2  3599000  2012        122       238590   \n",
       "3  3750000  2014        140       233100   \n",
       "4  5950000  2016        150       176000   \n",
       "\n",
       "                                         Description  \\\n",
       "0  VOLKSWAGEN PASSAT 2.0 TDI Comfortline BMT DSG ...   \n",
       "1  VOLKSWAGEN PASSAT Variant 2.0 CR TDI Comfortli...   \n",
       "2  VOLKSWAGEN PASSAT VII Variant 1.4 TSI Comfortl...   \n",
       "3  VOLKSWAGEN PASSAT VII 2.0 CR TDI Comfortline B...   \n",
       "4  VOLKSWAGEN PASSAT VIII 2.0 TDI Comfortline BMT...   \n",
       "\n",
       "                                                Link Fuel_type  \n",
       "0  https://www.hasznaltauto.hu/szemelyauto/volksw...     Dízel  \n",
       "1  https://www.hasznaltauto.hu/szemelyauto/volksw...     Dízel  \n",
       "2  https://www.hasznaltauto.hu/szemelyauto/volksw...    Benzin  \n",
       "3  https://www.hasznaltauto.hu/szemelyauto/volksw...     Dízel  \n",
       "4  https://www.hasznaltauto.hu/szemelyauto/volksw...     Dízel  "
      ]
     },
     "execution_count": 306,
     "metadata": {},
     "output_type": "execute_result"
    }
   ],
   "source": [
    "df.head()"
   ]
  },
  {
   "cell_type": "markdown",
   "metadata": {},
   "source": [
    "Check basic metrics per columns."
   ]
  },
  {
   "cell_type": "code",
   "execution_count": 307,
   "metadata": {},
   "outputs": [
    {
     "data": {
      "text/html": [
       "<div>\n",
       "<style scoped>\n",
       "    .dataframe tbody tr th:only-of-type {\n",
       "        vertical-align: middle;\n",
       "    }\n",
       "\n",
       "    .dataframe tbody tr th {\n",
       "        vertical-align: top;\n",
       "    }\n",
       "\n",
       "    .dataframe thead th {\n",
       "        text-align: right;\n",
       "    }\n",
       "</style>\n",
       "<table border=\"1\" class=\"dataframe\">\n",
       "  <thead>\n",
       "    <tr style=\"text-align: right;\">\n",
       "      <th></th>\n",
       "      <th>Price</th>\n",
       "      <th>Year</th>\n",
       "      <th>Power(HP)</th>\n",
       "      <th>Mileage(KM)</th>\n",
       "    </tr>\n",
       "  </thead>\n",
       "  <tbody>\n",
       "    <tr>\n",
       "      <th>count</th>\n",
       "      <td>3.990000e+02</td>\n",
       "      <td>399.000000</td>\n",
       "      <td>399.000000</td>\n",
       "      <td>399.000000</td>\n",
       "    </tr>\n",
       "    <tr>\n",
       "      <th>mean</th>\n",
       "      <td>8.143357e+13</td>\n",
       "      <td>2017.090226</td>\n",
       "      <td>167.684211</td>\n",
       "      <td>143096.969925</td>\n",
       "    </tr>\n",
       "    <tr>\n",
       "      <th>std</th>\n",
       "      <td>3.858400e+14</td>\n",
       "      <td>2.489552</td>\n",
       "      <td>32.438121</td>\n",
       "      <td>84493.590871</td>\n",
       "    </tr>\n",
       "    <tr>\n",
       "      <th>min</th>\n",
       "      <td>0.000000e+00</td>\n",
       "      <td>2012.000000</td>\n",
       "      <td>0.000000</td>\n",
       "      <td>0.000000</td>\n",
       "    </tr>\n",
       "    <tr>\n",
       "      <th>25%</th>\n",
       "      <td>6.300000e+06</td>\n",
       "      <td>2015.000000</td>\n",
       "      <td>150.000000</td>\n",
       "      <td>76782.000000</td>\n",
       "    </tr>\n",
       "    <tr>\n",
       "      <th>50%</th>\n",
       "      <td>7.650000e+06</td>\n",
       "      <td>2017.000000</td>\n",
       "      <td>150.000000</td>\n",
       "      <td>144980.000000</td>\n",
       "    </tr>\n",
       "    <tr>\n",
       "      <th>75%</th>\n",
       "      <td>1.034000e+07</td>\n",
       "      <td>2019.000000</td>\n",
       "      <td>190.000000</td>\n",
       "      <td>195000.000000</td>\n",
       "    </tr>\n",
       "    <tr>\n",
       "      <th>max</th>\n",
       "      <td>2.255812e+15</td>\n",
       "      <td>2022.000000</td>\n",
       "      <td>299.000000</td>\n",
       "      <td>447000.000000</td>\n",
       "    </tr>\n",
       "  </tbody>\n",
       "</table>\n",
       "</div>"
      ],
      "text/plain": [
       "              Price         Year   Power(HP)    Mileage(KM)\n",
       "count  3.990000e+02   399.000000  399.000000     399.000000\n",
       "mean   8.143357e+13  2017.090226  167.684211  143096.969925\n",
       "std    3.858400e+14     2.489552   32.438121   84493.590871\n",
       "min    0.000000e+00  2012.000000    0.000000       0.000000\n",
       "25%    6.300000e+06  2015.000000  150.000000   76782.000000\n",
       "50%    7.650000e+06  2017.000000  150.000000  144980.000000\n",
       "75%    1.034000e+07  2019.000000  190.000000  195000.000000\n",
       "max    2.255812e+15  2022.000000  299.000000  447000.000000"
      ]
     },
     "execution_count": 307,
     "metadata": {},
     "output_type": "execute_result"
    }
   ],
   "source": [
    "df.describe()"
   ]
  },
  {
   "cell_type": "markdown",
   "metadata": {},
   "source": [
    "The lowest value of Price is 0, the highest is more than a million Euro. There must be some error in this column. The other columns look normal."
   ]
  },
  {
   "cell_type": "markdown",
   "metadata": {},
   "source": [
    "First, check the lines where Price = 0."
   ]
  },
  {
   "cell_type": "code",
   "execution_count": 308,
   "metadata": {},
   "outputs": [
    {
     "data": {
      "text/html": [
       "<div>\n",
       "<style scoped>\n",
       "    .dataframe tbody tr th:only-of-type {\n",
       "        vertical-align: middle;\n",
       "    }\n",
       "\n",
       "    .dataframe tbody tr th {\n",
       "        vertical-align: top;\n",
       "    }\n",
       "\n",
       "    .dataframe thead th {\n",
       "        text-align: right;\n",
       "    }\n",
       "</style>\n",
       "<table border=\"1\" class=\"dataframe\">\n",
       "  <thead>\n",
       "    <tr style=\"text-align: right;\">\n",
       "      <th></th>\n",
       "      <th>Price</th>\n",
       "      <th>Year</th>\n",
       "      <th>Power(HP)</th>\n",
       "      <th>Mileage(KM)</th>\n",
       "      <th>Description</th>\n",
       "      <th>Link</th>\n",
       "      <th>Fuel_type</th>\n",
       "    </tr>\n",
       "  </thead>\n",
       "  <tbody>\n",
       "    <tr>\n",
       "      <th>71</th>\n",
       "      <td>0</td>\n",
       "      <td>2017</td>\n",
       "      <td>120</td>\n",
       "      <td>213000</td>\n",
       "      <td>VOLKSWAGEN PASSAT VIII Variant 1.6 TDI Trendli...</td>\n",
       "      <td>https://www.hasznaltauto.hu/szemelyauto/volksw...</td>\n",
       "      <td>Dízel</td>\n",
       "    </tr>\n",
       "    <tr>\n",
       "      <th>154</th>\n",
       "      <td>0</td>\n",
       "      <td>2017</td>\n",
       "      <td>150</td>\n",
       "      <td>164500</td>\n",
       "      <td>VOLKSWAGEN PASSAT 1.4 TSI Comfortline ACT BMT</td>\n",
       "      <td>https://www.hasznaltauto.hu/szemelyauto/volksw...</td>\n",
       "      <td>Benzin</td>\n",
       "    </tr>\n",
       "    <tr>\n",
       "      <th>173</th>\n",
       "      <td>0</td>\n",
       "      <td>2016</td>\n",
       "      <td>192</td>\n",
       "      <td>186100</td>\n",
       "      <td>VOLKSWAGEN PASSAT VIII Variant 2.0 TDI Highlin...</td>\n",
       "      <td>https://www.hasznaltauto.hu/szemelyauto/volksw...</td>\n",
       "      <td>Dízel</td>\n",
       "    </tr>\n",
       "    <tr>\n",
       "      <th>398</th>\n",
       "      <td>0</td>\n",
       "      <td>2020</td>\n",
       "      <td>156</td>\n",
       "      <td>20000</td>\n",
       "      <td>VOLKSWAGEN PASSAT VIII Variant 1.4 TSI GTE Plu...</td>\n",
       "      <td>https://www.hasznaltauto.hu/szemelyauto/volksw...</td>\n",
       "      <td>NaN</td>\n",
       "    </tr>\n",
       "  </tbody>\n",
       "</table>\n",
       "</div>"
      ],
      "text/plain": [
       "     Price  Year  Power(HP)  Mileage(KM)  \\\n",
       "71       0  2017        120       213000   \n",
       "154      0  2017        150       164500   \n",
       "173      0  2016        192       186100   \n",
       "398      0  2020        156        20000   \n",
       "\n",
       "                                           Description  \\\n",
       "71   VOLKSWAGEN PASSAT VIII Variant 1.6 TDI Trendli...   \n",
       "154      VOLKSWAGEN PASSAT 1.4 TSI Comfortline ACT BMT   \n",
       "173  VOLKSWAGEN PASSAT VIII Variant 2.0 TDI Highlin...   \n",
       "398  VOLKSWAGEN PASSAT VIII Variant 1.4 TSI GTE Plu...   \n",
       "\n",
       "                                                  Link Fuel_type  \n",
       "71   https://www.hasznaltauto.hu/szemelyauto/volksw...     Dízel  \n",
       "154  https://www.hasznaltauto.hu/szemelyauto/volksw...    Benzin  \n",
       "173  https://www.hasznaltauto.hu/szemelyauto/volksw...     Dízel  \n",
       "398  https://www.hasznaltauto.hu/szemelyauto/volksw...       NaN  "
      ]
     },
     "execution_count": 308,
     "metadata": {},
     "output_type": "execute_result"
    }
   ],
   "source": [
    "df[df.Price == 0]"
   ]
  },
  {
   "cell_type": "markdown",
   "metadata": {},
   "source": [
    "There are only 4 lines without Price. Considering the low amount of missing data, the best solution is to check manually the missing prices. The prices are available on the first 3 Links, but the last add (line 398) doesn't contain selling price because that car is only for rent. The current analyis is only on selling prices, so line 398 is removed from the data."
   ]
  },
  {
   "cell_type": "code",
   "execution_count": 309,
   "metadata": {},
   "outputs": [],
   "source": [
    "df.at[71, 'Price'] = 5024550\n",
    "df.at[154, 'Price'] = 6984060\n",
    "df.at[173, 'Price'] = 7225290\n",
    "df = df.drop([398])"
   ]
  },
  {
   "cell_type": "markdown",
   "metadata": {},
   "source": [
    "Next, check the 'too high' prices. The reasonable price of this car type is under 30 million HUF (100k EUR). Let's see if there's any price above this threshold."
   ]
  },
  {
   "cell_type": "code",
   "execution_count": 310,
   "metadata": {},
   "outputs": [
    {
     "data": {
      "text/plain": [
       "Price          20\n",
       "Year           20\n",
       "Power(HP)      20\n",
       "Mileage(KM)    20\n",
       "Description    20\n",
       "Link           20\n",
       "Fuel_type      20\n",
       "dtype: int64"
      ]
     },
     "execution_count": 310,
     "metadata": {},
     "output_type": "execute_result"
    }
   ],
   "source": [
    "df[df.Price > 30000000].count()"
   ]
  },
  {
   "cell_type": "markdown",
   "metadata": {},
   "source": [
    "There are 20 lines with prices above 30 million HUF. Once checked manually, it is noticed that wherever the website shows an original price and a discounted price, the Download script concatenates them. Because of this, if the original and the discounted prices are both 8 digits long, the Dataframe contains 16 digits. This is a bug which must be corrected in the Download script later. For the time being, a function finds the final prices."
   ]
  },
  {
   "cell_type": "code",
   "execution_count": 311,
   "metadata": {},
   "outputs": [],
   "source": [
    "df.Price = df.Price % 1000000000000000\n",
    "df.Price = df.Price % 100000000000000\n",
    "df.Price = df.Price % 10000000000000\n",
    "df.Price = df.Price % 1000000000000\n",
    "df.Price = df.Price % 100000000000\n",
    "df.Price = df.Price % 10000000000\n",
    "df.Price = df.Price % 1000000000\n",
    "df.Price = df.Price % 100000000\n",
    "df.Price = df.apply(lambda row: row.Price % 10000000 if row.Price > 30000000 else row.Price, axis=1)\n"
   ]
  },
  {
   "cell_type": "code",
   "execution_count": 312,
   "metadata": {},
   "outputs": [
    {
     "data": {
      "text/plain": [
       "21020000"
      ]
     },
     "execution_count": 312,
     "metadata": {},
     "output_type": "execute_result"
    }
   ],
   "source": [
    "df.Price.max()"
   ]
  },
  {
   "cell_type": "code",
   "execution_count": 313,
   "metadata": {},
   "outputs": [
    {
     "data": {
      "text/plain": [
       "2490000"
      ]
     },
     "execution_count": 313,
     "metadata": {},
     "output_type": "execute_result"
    }
   ],
   "source": [
    "df.Price.min()"
   ]
  },
  {
   "cell_type": "markdown",
   "metadata": {},
   "source": [
    "After the data cleaning, the lowest price is 2.49 million HUF and the highest price is 20.9 million HUF, which are reasonable."
   ]
  },
  {
   "cell_type": "markdown",
   "metadata": {},
   "source": [
    "The data is from a Hungarian website, so the prices are in HUF. Let's change them to EUR to make the data easier to understand for Non-Hungarians."
   ]
  },
  {
   "cell_type": "code",
   "execution_count": 314,
   "metadata": {},
   "outputs": [],
   "source": [
    "FX_EUR_HUF = 430\n",
    "df.Price = round(df.Price / FX_EUR_HUF, 0)\n",
    "df.Price = df.Price.astype('int64')"
   ]
  },
  {
   "cell_type": "markdown",
   "metadata": {},
   "source": [
    "Create a histogram on the Prices to check if there's any outlier data."
   ]
  },
  {
   "cell_type": "code",
   "execution_count": 315,
   "metadata": {},
   "outputs": [
    {
     "data": {
      "image/png": "[encoded data removed]",
      "text/plain": [
       "<Figure size 432x288 with 1 Axes>"
      ]
     },
     "metadata": {
      "needs_background": "light"
     },
     "output_type": "display_data"
    }
   ],
   "source": [
    "plt.hist(df.Price)\n",
    "plt.title('Price distribution')\n",
    "plt.xlabel('Price (EUR)')\n",
    "plt.ylabel('Occurrence')\n",
    "plt.show()"
   ]
  },
  {
   "cell_type": "markdown",
   "metadata": {},
   "source": [
    "Looking at the histogram the Prices data look good. The minimum and maximum values make sense. The histogram is right skewed which is in line with the expectations: the more expensive cars are the (almost) new ones, which can be found on this website but the site's focus is on the used cars. Also, the Hungarian second hand car market relies heavily on import cars, which are usually 3+ years old."
   ]
  },
  {
   "cell_type": "markdown",
   "metadata": {},
   "source": [
    "Let's check the distribution of the Production years, also with a histogram."
   ]
  },
  {
   "cell_type": "code",
   "execution_count": 316,
   "metadata": {},
   "outputs": [
    {
     "data": {
      "image/png": "[encoded data removed]",
      "text/plain": [
       "<Figure size 432x288 with 1 Axes>"
      ]
     },
     "metadata": {
      "needs_background": "light"
     },
     "output_type": "display_data"
    }
   ],
   "source": [
    "plt.hist(df.Year)\n",
    "plt.title('Production year distribution')\n",
    "plt.xlabel('Production year')\n",
    "plt.ylabel('Occurrence')\n",
    "plt.show()"
   ]
  },
  {
   "cell_type": "markdown",
   "metadata": {},
   "source": [
    "Production year data seems good: there are no outliers or missing data. Owners usually keep their new vehicles for the first 3 years, so the drop in the number of ads between 2018 and 2022 looks normal."
   ]
  },
  {
   "cell_type": "markdown",
   "metadata": {},
   "source": [
    "Next, check the data in the Fuel type colum. Converting the texts to English makes them easier to understand for Non-Hungarians."
   ]
  },
  {
   "cell_type": "code",
   "execution_count": 317,
   "metadata": {},
   "outputs": [
    {
     "data": {
      "text/plain": [
       "array(['Dízel', 'Benzin', 'Hibrid (Benzin)', 'Hibrid'], dtype=object)"
      ]
     },
     "execution_count": 317,
     "metadata": {},
     "output_type": "execute_result"
    }
   ],
   "source": [
    "df.Fuel_type.unique()"
   ]
  },
  {
   "cell_type": "markdown",
   "metadata": {},
   "source": [
    "This car type has only one type of Hybrid engine (plub-in hybrid), so 'Hibrid (Benzin)' and 'Hibrid' categories can be merged."
   ]
  },
  {
   "cell_type": "code",
   "execution_count": 318,
   "metadata": {},
   "outputs": [],
   "source": [
    "df.Fuel_type = df.Fuel_type.replace(['Dízel'], 'Diesel')\n",
    "df.Fuel_type = df.Fuel_type.replace(['Benzin'], 'Petrol')\n",
    "df.Fuel_type = df.Fuel_type.replace(['Hibrid (Benzin)'], 'Hybrid')\n",
    "df.Fuel_type = df.Fuel_type.replace(['Hibrid'], 'Hybrid')"
   ]
  },
  {
   "cell_type": "code",
   "execution_count": 319,
   "metadata": {},
   "outputs": [
    {
     "data": {
      "text/html": [
       "<style type=\"text/css\">\n",
       "</style>\n",
       "<table id=\"T_e1f67\">\n",
       "  <thead>\n",
       "    <tr>\n",
       "      <th class=\"blank level0\" >&nbsp;</th>\n",
       "      <th id=\"T_e1f67_level0_col0\" class=\"col_heading level0 col0\" >Fuel_type</th>\n",
       "      <th id=\"T_e1f67_level0_col1\" class=\"col_heading level0 col1\" >Number of items</th>\n",
       "      <th id=\"T_e1f67_level0_col2\" class=\"col_heading level0 col2\" >Ratio</th>\n",
       "    </tr>\n",
       "  </thead>\n",
       "  <tbody>\n",
       "    <tr>\n",
       "      <th id=\"T_e1f67_level0_row0\" class=\"row_heading level0 row0\" >0</th>\n",
       "      <td id=\"T_e1f67_row0_col0\" class=\"data row0 col0\" >Diesel</td>\n",
       "      <td id=\"T_e1f67_row0_col1\" class=\"data row0 col1\" >332</td>\n",
       "      <td id=\"T_e1f67_row0_col2\" class=\"data row0 col2\" >83.000000</td>\n",
       "    </tr>\n",
       "    <tr>\n",
       "      <th id=\"T_e1f67_level0_row1\" class=\"row_heading level0 row1\" >1</th>\n",
       "      <td id=\"T_e1f67_row1_col0\" class=\"data row1 col0\" >Hybrid</td>\n",
       "      <td id=\"T_e1f67_row1_col1\" class=\"data row1 col1\" >25</td>\n",
       "      <td id=\"T_e1f67_row1_col2\" class=\"data row1 col2\" >6.000000</td>\n",
       "    </tr>\n",
       "    <tr>\n",
       "      <th id=\"T_e1f67_level0_row2\" class=\"row_heading level0 row2\" >2</th>\n",
       "      <td id=\"T_e1f67_row2_col0\" class=\"data row2 col0\" >Petrol</td>\n",
       "      <td id=\"T_e1f67_row2_col1\" class=\"data row2 col1\" >41</td>\n",
       "      <td id=\"T_e1f67_row2_col2\" class=\"data row2 col2\" >10.000000</td>\n",
       "    </tr>\n",
       "  </tbody>\n",
       "</table>\n"
      ],
      "text/plain": [
       "<pandas.io.formats.style.Styler at 0x19ff5930580>"
      ]
     },
     "execution_count": 319,
     "metadata": {},
     "output_type": "execute_result"
    }
   ],
   "source": [
    "ratio = df.groupby('Fuel_type').count().reset_index()\n",
    "ratio['Ratio'] = round((ratio.Price / sum(ratio.Price)) * 100, 0)\n",
    "ratio = ratio.rename(columns={'Price' : 'Number of items'})\n",
    "ratio_table = ratio[['Fuel_type', 'Number of items', 'Ratio']]\n",
    "ratio_table.style"
   ]
  },
  {
   "cell_type": "markdown",
   "metadata": {},
   "source": [
    "The dataset contains almost 400 lines of data, but only 10% of it is on Petrol cars and only 6% is on Hybrid cars. A note for the later analysis: the low amount of Petrol and Hybrid data brings uncertainty regarding results based on Fuel type."
   ]
  },
  {
   "cell_type": "markdown",
   "metadata": {},
   "source": [
    "The last data validation step is on column Mileage. The below histogram doesn't show any suspicious value, so this column is left unchanged."
   ]
  },
  {
   "cell_type": "code",
   "execution_count": 320,
   "metadata": {},
   "outputs": [
    {
     "data": {
      "image/png": "[encoded data removed]",
      "text/plain": [
       "<Figure size 432x288 with 1 Axes>"
      ]
     },
     "metadata": {
      "needs_background": "light"
     },
     "output_type": "display_data"
    }
   ],
   "source": [
    "plt.hist(df['Mileage(KM)'])\n",
    "plt.show()"
   ]
  },
  {
   "cell_type": "markdown",
   "metadata": {},
   "source": [
    "People tend to use brackets for mileage data, for example the car is between 150k and 160k kilometers. Let's add a new column to the dataset, brackets of 10k kilometers."
   ]
  },
  {
   "cell_type": "code",
   "execution_count": 321,
   "metadata": {},
   "outputs": [],
   "source": [
    "df['Mileage_bracket(KM)'] = df['Mileage(KM)'] // 10000 * 10000"
   ]
  },
  {
   "cell_type": "markdown",
   "metadata": {},
   "source": [
    "# Data visualization"
   ]
  },
  {
   "cell_type": "markdown",
   "metadata": {},
   "source": [
    "The data is cleared and validated, so it can be visualized. First, check the prices per year and fuel type."
   ]
  },
  {
   "cell_type": "code",
   "execution_count": 322,
   "metadata": {},
   "outputs": [
    {
     "data": {
      "image/png": "[encoded data removed]",
      "text/plain": [
       "<Figure size 933x432 with 1 Axes>"
      ]
     },
     "metadata": {
      "needs_background": "light"
     },
     "output_type": "display_data"
    }
   ],
   "source": [
    "sns.lmplot(x = 'Year', y = 'Price', hue = 'Fuel_type', data = df, height=6, aspect=2)\n",
    "plt.title('Price per fuel type and year', fontsize=20)\n",
    "plt.xlabel('Production year', fontsize = 15)\n",
    "plt.ylabel('Price (EUR)', fontsize = 15)\n",
    "plt.show()"
   ]
  },
  {
   "cell_type": "markdown",
   "metadata": {},
   "source": [
    "Based on this figure, Hybrid cars are the most expensive, and Diesel cars are the cheapest. Although it is in line with the expectations, it's worth mentioning that the low amount of data on Hybrid and Petrol cars brings uncertainty in these results. It's also interesting to see that this price difference is increasing in the case of younger cars. The below pivot table shows the price difference between the average price of Diesel cars and the average price of Hybrid and Petrol cars by year."
   ]
  },
  {
   "cell_type": "code",
   "execution_count": 323,
   "metadata": {},
   "outputs": [],
   "source": [
    "df_group = df.groupby(['Year', 'Fuel_type']).mean().reset_index()\n"
   ]
  },
  {
   "cell_type": "code",
   "execution_count": 324,
   "metadata": {},
   "outputs": [
    {
     "data": {
      "text/html": [
       "<style type=\"text/css\">\n",
       "</style>\n",
       "<table id=\"T_f95ec\">\n",
       "  <thead>\n",
       "    <tr>\n",
       "      <th class=\"index_name level0\" >Fuel_type</th>\n",
       "      <th id=\"T_f95ec_level0_col0\" class=\"col_heading level0 col0\" >Diesel</th>\n",
       "      <th id=\"T_f95ec_level0_col1\" class=\"col_heading level0 col1\" >Hybrid</th>\n",
       "      <th id=\"T_f95ec_level0_col2\" class=\"col_heading level0 col2\" >Petrol</th>\n",
       "      <th id=\"T_f95ec_level0_col3\" class=\"col_heading level0 col3\" >Hybrid to Diesel</th>\n",
       "      <th id=\"T_f95ec_level0_col4\" class=\"col_heading level0 col4\" >Petrol to Diesel</th>\n",
       "    </tr>\n",
       "    <tr>\n",
       "      <th class=\"index_name level0\" >Year</th>\n",
       "      <th class=\"blank col0\" >&nbsp;</th>\n",
       "      <th class=\"blank col1\" >&nbsp;</th>\n",
       "      <th class=\"blank col2\" >&nbsp;</th>\n",
       "      <th class=\"blank col3\" >&nbsp;</th>\n",
       "      <th class=\"blank col4\" >&nbsp;</th>\n",
       "    </tr>\n",
       "  </thead>\n",
       "  <tbody>\n",
       "    <tr>\n",
       "      <th id=\"T_f95ec_level0_row0\" class=\"row_heading level0 row0\" >2012</th>\n",
       "      <td id=\"T_f95ec_row0_col0\" class=\"data row0 col0\" >8804.000000</td>\n",
       "      <td id=\"T_f95ec_row0_col1\" class=\"data row0 col1\" >nan</td>\n",
       "      <td id=\"T_f95ec_row0_col2\" class=\"data row0 col2\" >9483.666667</td>\n",
       "      <td id=\"T_f95ec_row0_col3\" class=\"data row0 col3\" >nan</td>\n",
       "      <td id=\"T_f95ec_row0_col4\" class=\"data row0 col4\" >7.700000</td>\n",
       "    </tr>\n",
       "    <tr>\n",
       "      <th id=\"T_f95ec_level0_row1\" class=\"row_heading level0 row1\" >2013</th>\n",
       "      <td id=\"T_f95ec_row1_col0\" class=\"data row1 col0\" >9225.777778</td>\n",
       "      <td id=\"T_f95ec_row1_col1\" class=\"data row1 col1\" >nan</td>\n",
       "      <td id=\"T_f95ec_row1_col2\" class=\"data row1 col2\" >8243.000000</td>\n",
       "      <td id=\"T_f95ec_row1_col3\" class=\"data row1 col3\" >nan</td>\n",
       "      <td id=\"T_f95ec_row1_col4\" class=\"data row1 col4\" >-10.700000</td>\n",
       "    </tr>\n",
       "    <tr>\n",
       "      <th id=\"T_f95ec_level0_row2\" class=\"row_heading level0 row2\" >2014</th>\n",
       "      <td id=\"T_f95ec_row2_col0\" class=\"data row2 col0\" >9632.066667</td>\n",
       "      <td id=\"T_f95ec_row2_col1\" class=\"data row2 col1\" >nan</td>\n",
       "      <td id=\"T_f95ec_row2_col2\" class=\"data row2 col2\" >10795.500000</td>\n",
       "      <td id=\"T_f95ec_row2_col3\" class=\"data row2 col3\" >nan</td>\n",
       "      <td id=\"T_f95ec_row2_col4\" class=\"data row2 col4\" >12.100000</td>\n",
       "    </tr>\n",
       "    <tr>\n",
       "      <th id=\"T_f95ec_level0_row3\" class=\"row_heading level0 row3\" >2015</th>\n",
       "      <td id=\"T_f95ec_row3_col0\" class=\"data row3 col0\" >15052.568182</td>\n",
       "      <td id=\"T_f95ec_row3_col1\" class=\"data row3 col1\" >19320.400000</td>\n",
       "      <td id=\"T_f95ec_row3_col2\" class=\"data row3 col2\" >16277.000000</td>\n",
       "      <td id=\"T_f95ec_row3_col3\" class=\"data row3 col3\" >28.400000</td>\n",
       "      <td id=\"T_f95ec_row3_col4\" class=\"data row3 col4\" >8.100000</td>\n",
       "    </tr>\n",
       "    <tr>\n",
       "      <th id=\"T_f95ec_level0_row4\" class=\"row_heading level0 row4\" >2016</th>\n",
       "      <td id=\"T_f95ec_row4_col0\" class=\"data row4 col0\" >16135.000000</td>\n",
       "      <td id=\"T_f95ec_row4_col1\" class=\"data row4 col1\" >20078.400000</td>\n",
       "      <td id=\"T_f95ec_row4_col2\" class=\"data row4 col2\" >15133.750000</td>\n",
       "      <td id=\"T_f95ec_row4_col3\" class=\"data row4 col3\" >24.400000</td>\n",
       "      <td id=\"T_f95ec_row4_col4\" class=\"data row4 col4\" >-6.200000</td>\n",
       "    </tr>\n",
       "    <tr>\n",
       "      <th id=\"T_f95ec_level0_row5\" class=\"row_heading level0 row5\" >2017</th>\n",
       "      <td id=\"T_f95ec_row5_col0\" class=\"data row5 col0\" >17240.102041</td>\n",
       "      <td id=\"T_f95ec_row5_col1\" class=\"data row5 col1\" >22809.200000</td>\n",
       "      <td id=\"T_f95ec_row5_col2\" class=\"data row5 col2\" >19946.142857</td>\n",
       "      <td id=\"T_f95ec_row5_col3\" class=\"data row5 col3\" >32.300000</td>\n",
       "      <td id=\"T_f95ec_row5_col4\" class=\"data row5 col4\" >15.700000</td>\n",
       "    </tr>\n",
       "    <tr>\n",
       "      <th id=\"T_f95ec_level0_row6\" class=\"row_heading level0 row6\" >2018</th>\n",
       "      <td id=\"T_f95ec_row6_col0\" class=\"data row6 col0\" >19760.451613</td>\n",
       "      <td id=\"T_f95ec_row6_col1\" class=\"data row6 col1\" >26837.000000</td>\n",
       "      <td id=\"T_f95ec_row6_col2\" class=\"data row6 col2\" >20679.333333</td>\n",
       "      <td id=\"T_f95ec_row6_col3\" class=\"data row6 col3\" >35.800000</td>\n",
       "      <td id=\"T_f95ec_row6_col4\" class=\"data row6 col4\" >4.700000</td>\n",
       "    </tr>\n",
       "    <tr>\n",
       "      <th id=\"T_f95ec_level0_row7\" class=\"row_heading level0 row7\" >2019</th>\n",
       "      <td id=\"T_f95ec_row7_col0\" class=\"data row7 col0\" >25290.090909</td>\n",
       "      <td id=\"T_f95ec_row7_col1\" class=\"data row7 col1\" >39535.000000</td>\n",
       "      <td id=\"T_f95ec_row7_col2\" class=\"data row7 col2\" >38116.000000</td>\n",
       "      <td id=\"T_f95ec_row7_col3\" class=\"data row7 col3\" >56.300000</td>\n",
       "      <td id=\"T_f95ec_row7_col4\" class=\"data row7 col4\" >50.700000</td>\n",
       "    </tr>\n",
       "    <tr>\n",
       "      <th id=\"T_f95ec_level0_row8\" class=\"row_heading level0 row8\" >2020</th>\n",
       "      <td id=\"T_f95ec_row8_col0\" class=\"data row8 col0\" >27247.550000</td>\n",
       "      <td id=\"T_f95ec_row8_col1\" class=\"data row8 col1\" >43028.500000</td>\n",
       "      <td id=\"T_f95ec_row8_col2\" class=\"data row8 col2\" >29974.000000</td>\n",
       "      <td id=\"T_f95ec_row8_col3\" class=\"data row8 col3\" >57.900000</td>\n",
       "      <td id=\"T_f95ec_row8_col4\" class=\"data row8 col4\" >10.000000</td>\n",
       "    </tr>\n",
       "    <tr>\n",
       "      <th id=\"T_f95ec_level0_row9\" class=\"row_heading level0 row9\" >2021</th>\n",
       "      <td id=\"T_f95ec_row9_col0\" class=\"data row9 col0\" >30613.181818</td>\n",
       "      <td id=\"T_f95ec_row9_col1\" class=\"data row9 col1\" >40773.666667</td>\n",
       "      <td id=\"T_f95ec_row9_col2\" class=\"data row9 col2\" >nan</td>\n",
       "      <td id=\"T_f95ec_row9_col3\" class=\"data row9 col3\" >33.200000</td>\n",
       "      <td id=\"T_f95ec_row9_col4\" class=\"data row9 col4\" >nan</td>\n",
       "    </tr>\n",
       "    <tr>\n",
       "      <th id=\"T_f95ec_level0_row10\" class=\"row_heading level0 row10\" >2022</th>\n",
       "      <td id=\"T_f95ec_row10_col0\" class=\"data row10 col0\" >42033.050000</td>\n",
       "      <td id=\"T_f95ec_row10_col1\" class=\"data row10 col1\" >nan</td>\n",
       "      <td id=\"T_f95ec_row10_col2\" class=\"data row10 col2\" >45291.166667</td>\n",
       "      <td id=\"T_f95ec_row10_col3\" class=\"data row10 col3\" >nan</td>\n",
       "      <td id=\"T_f95ec_row10_col4\" class=\"data row10 col4\" >7.800000</td>\n",
       "    </tr>\n",
       "  </tbody>\n",
       "</table>\n"
      ],
      "text/plain": [
       "<pandas.io.formats.style.Styler at 0x19ff5e1b910>"
      ]
     },
     "execution_count": 324,
     "metadata": {},
     "output_type": "execute_result"
    }
   ],
   "source": [
    "pivot = df_group.pivot(index='Year', columns='Fuel_type', values='Price')\n",
    "pivot['Hybrid to Diesel'] = round((pivot['Hybrid'] - pivot['Diesel']) / pivot['Diesel'] * 100, 1)\n",
    "pivot['Petrol to Diesel'] = round((pivot['Petrol'] - pivot['Diesel']) / pivot['Diesel'] * 100, 1)\n",
    "pivot.style"
   ]
  },
  {
   "cell_type": "markdown",
   "metadata": {},
   "source": [
    "The average price of Hybrid cars is 28% higher than the average price of Diesel cars in the case of 7 years old cars (2015). This difference is 35.8% at 2018 and 58% at 2020. It is surprising because most of the people think that having a Diesel car gets costly with time due to the expensive parts of modern Diesel engines. Maybe they think that Hybrid cars are getting even more expensive to maintain? Again, solid conclusions can't be formed due to the low amount of data."
   ]
  },
  {
   "cell_type": "markdown",
   "metadata": {},
   "source": [
    "The below boxplot shows the prices without considering other specs (engine, miles, etc). An interesting pattern is that lowest and median prices are quite close to each other for cars which were made between 2015 and 2018. It is worth checking if it's only due to other specs, or maybe it's better to look for a car from 2018 than from earlier because we get younger car for almost the same money."
   ]
  },
  {
   "cell_type": "code",
   "execution_count": 325,
   "metadata": {},
   "outputs": [
    {
     "data": {
      "image/png": "[encoded data removed]",
      "text/plain": [
       "<Figure size 1152x576 with 1 Axes>"
      ]
     },
     "metadata": {
      "needs_background": "light"
     },
     "output_type": "display_data"
    }
   ],
   "source": [
    "plt.figure(figsize=(16,8))\n",
    "plt.title('Price statistics per year', fontsize=20)\n",
    "sns.boxplot(data=df, x=df.Year, y=df.Price).set(xlabel = 'Production year', ylabel = 'Price (EUR')\n",
    "plt.show()\n"
   ]
  },
  {
   "cell_type": "markdown",
   "metadata": {},
   "source": [
    "Next, check the prices depending on mileage. Cars with 0 or low mileage are between 35k and 50k EUR. After the first 50k mileage, prices are between 20k and 35k EUR. It's interesting to see that the prices reach a 'threshold' of 8K at around 130k kilometres: from this point on, the price range narrows with the mileage, but the lowest price remains around 8K."
   ]
  },
  {
   "cell_type": "code",
   "execution_count": 326,
   "metadata": {},
   "outputs": [
    {
     "data": {
      "image/png": "[encoded data removed]",
      "text/plain": [
       "<Figure size 864x432 with 1 Axes>"
      ]
     },
     "metadata": {
      "needs_background": "light"
     },
     "output_type": "display_data"
    }
   ],
   "source": [
    "sns.lmplot(x = 'Mileage(KM)', y = 'Price', data = df, height=6, aspect=2)\n",
    "plt.title('Price per mileage', fontsize=20)\n",
    "plt.xlabel('Mileage (kilometer)', fontsize = 15)\n",
    "plt.ylabel('Price (EUR)', fontsize = 15)\n",
    "plt.show()"
   ]
  },
  {
   "cell_type": "markdown",
   "metadata": {},
   "source": [
    "This car type has different equipment levels which are usually written in the add text. Before 2018 - 2019, the leves were: Trendline, Comfortline, Highline. After 2018 - 2019, there were only 2 levels: Business and Elegance. To make the visualization better, the new Elegance and Business levels can be merged into the previous Highline and Comfortline levels."
   ]
  },
  {
   "cell_type": "code",
   "execution_count": 327,
   "metadata": {},
   "outputs": [],
   "source": [
    "def line(row):\n",
    "    if 'Trendline' in row['Description']:\n",
    "        return 'Trendline'\n",
    "    elif 'Highline' in row['Description'] or 'Elegance' in row['Description']:\n",
    "        return 'Highline'\n",
    "    elif 'Comfortline' in row['Description'] or 'Business' in row['Description']:\n",
    "        return 'Comfortline'\n",
    "    else:\n",
    "        return 'Unknown'\n",
    "\n",
    "df['Level'] = df.apply (lambda row: line(row), axis=1)\n"
   ]
  },
  {
   "cell_type": "code",
   "execution_count": 328,
   "metadata": {},
   "outputs": [
    {
     "data": {
      "text/html": [
       "<div>\n",
       "<style scoped>\n",
       "    .dataframe tbody tr th:only-of-type {\n",
       "        vertical-align: middle;\n",
       "    }\n",
       "\n",
       "    .dataframe tbody tr th {\n",
       "        vertical-align: top;\n",
       "    }\n",
       "\n",
       "    .dataframe thead th {\n",
       "        text-align: right;\n",
       "    }\n",
       "</style>\n",
       "<table border=\"1\" class=\"dataframe\">\n",
       "  <thead>\n",
       "    <tr style=\"text-align: right;\">\n",
       "      <th></th>\n",
       "      <th>Price</th>\n",
       "      <th>Year</th>\n",
       "      <th>Power(HP)</th>\n",
       "      <th>Mileage(KM)</th>\n",
       "      <th>Description</th>\n",
       "      <th>Link</th>\n",
       "      <th>Fuel_type</th>\n",
       "      <th>Mileage_bracket(KM)</th>\n",
       "    </tr>\n",
       "    <tr>\n",
       "      <th>Level</th>\n",
       "      <th></th>\n",
       "      <th></th>\n",
       "      <th></th>\n",
       "      <th></th>\n",
       "      <th></th>\n",
       "      <th></th>\n",
       "      <th></th>\n",
       "      <th></th>\n",
       "    </tr>\n",
       "  </thead>\n",
       "  <tbody>\n",
       "    <tr>\n",
       "      <th>Comfortline</th>\n",
       "      <td>175</td>\n",
       "      <td>175</td>\n",
       "      <td>175</td>\n",
       "      <td>175</td>\n",
       "      <td>175</td>\n",
       "      <td>175</td>\n",
       "      <td>175</td>\n",
       "      <td>175</td>\n",
       "    </tr>\n",
       "    <tr>\n",
       "      <th>Highline</th>\n",
       "      <td>172</td>\n",
       "      <td>172</td>\n",
       "      <td>172</td>\n",
       "      <td>172</td>\n",
       "      <td>172</td>\n",
       "      <td>172</td>\n",
       "      <td>172</td>\n",
       "      <td>172</td>\n",
       "    </tr>\n",
       "    <tr>\n",
       "      <th>Trendline</th>\n",
       "      <td>5</td>\n",
       "      <td>5</td>\n",
       "      <td>5</td>\n",
       "      <td>5</td>\n",
       "      <td>5</td>\n",
       "      <td>5</td>\n",
       "      <td>5</td>\n",
       "      <td>5</td>\n",
       "    </tr>\n",
       "    <tr>\n",
       "      <th>Unknown</th>\n",
       "      <td>46</td>\n",
       "      <td>46</td>\n",
       "      <td>46</td>\n",
       "      <td>46</td>\n",
       "      <td>46</td>\n",
       "      <td>46</td>\n",
       "      <td>46</td>\n",
       "      <td>46</td>\n",
       "    </tr>\n",
       "  </tbody>\n",
       "</table>\n",
       "</div>"
      ],
      "text/plain": [
       "             Price  Year  Power(HP)  Mileage(KM)  Description  Link  \\\n",
       "Level                                                                 \n",
       "Comfortline    175   175        175          175          175   175   \n",
       "Highline       172   172        172          172          172   172   \n",
       "Trendline        5     5          5            5            5     5   \n",
       "Unknown         46    46         46           46           46    46   \n",
       "\n",
       "             Fuel_type  Mileage_bracket(KM)  \n",
       "Level                                        \n",
       "Comfortline        175                  175  \n",
       "Highline           172                  172  \n",
       "Trendline            5                    5  \n",
       "Unknown             46                   46  "
      ]
     },
     "execution_count": 328,
     "metadata": {},
     "output_type": "execute_result"
    }
   ],
   "source": [
    "df.groupby('Level').count()"
   ]
  },
  {
   "cell_type": "markdown",
   "metadata": {},
   "source": [
    "There are 5 Trendline, 175 Comfortline, 172 Highline and 46 Unknown data. For the following (price per level) visualizations, the Unknown data are filtered out from the dataset. Also, the 5 Trendline data would distort the plots without adding significant value, so they are excluded as well."
   ]
  },
  {
   "cell_type": "code",
   "execution_count": 329,
   "metadata": {},
   "outputs": [
    {
     "data": {
      "image/png": "[encoded data removed]",
      "text/plain": [
       "<Figure size 958.375x432 with 1 Axes>"
      ]
     },
     "metadata": {
      "needs_background": "light"
     },
     "output_type": "display_data"
    }
   ],
   "source": [
    "df_level_filtered = df[(df.Level == 'Comfortline') | (df.Level == 'Highline')]\n",
    "sns.lmplot(x = 'Year', y = 'Price', hue = 'Level', data = df_level_filtered, height=6, aspect=2)\n",
    "plt.title('Price per Level and Year', fontsize=20)\n",
    "plt.xlabel('Production year', fontsize = 15)\n",
    "plt.ylabel('Price (EUR)', fontsize = 15)\n",
    "plt.show()"
   ]
  },
  {
   "cell_type": "code",
   "execution_count": 330,
   "metadata": {},
   "outputs": [],
   "source": [
    "df_level_pivot = df_level_filtered.groupby(['Year', 'Level']).mean().reset_index()"
   ]
  },
  {
   "cell_type": "code",
   "execution_count": 331,
   "metadata": {},
   "outputs": [
    {
     "data": {
      "text/html": [
       "<style type=\"text/css\">\n",
       "</style>\n",
       "<table id=\"T_eb1ce\">\n",
       "  <thead>\n",
       "    <tr>\n",
       "      <th class=\"index_name level0\" >Level</th>\n",
       "      <th id=\"T_eb1ce_level0_col0\" class=\"col_heading level0 col0\" >Comfortline</th>\n",
       "      <th id=\"T_eb1ce_level0_col1\" class=\"col_heading level0 col1\" >Highline</th>\n",
       "      <th id=\"T_eb1ce_level0_col2\" class=\"col_heading level0 col2\" >High to Comfort</th>\n",
       "    </tr>\n",
       "    <tr>\n",
       "      <th class=\"index_name level0\" >Year</th>\n",
       "      <th class=\"blank col0\" >&nbsp;</th>\n",
       "      <th class=\"blank col1\" >&nbsp;</th>\n",
       "      <th class=\"blank col2\" >&nbsp;</th>\n",
       "    </tr>\n",
       "  </thead>\n",
       "  <tbody>\n",
       "    <tr>\n",
       "      <th id=\"T_eb1ce_level0_row0\" class=\"row_heading level0 row0\" >2012</th>\n",
       "      <td id=\"T_eb1ce_row0_col0\" class=\"data row0 col0\" >8415.818182</td>\n",
       "      <td id=\"T_eb1ce_row0_col1\" class=\"data row0 col1\" >9819.571429</td>\n",
       "      <td id=\"T_eb1ce_row0_col2\" class=\"data row0 col2\" >16.700000</td>\n",
       "    </tr>\n",
       "    <tr>\n",
       "      <th id=\"T_eb1ce_level0_row1\" class=\"row_heading level0 row1\" >2013</th>\n",
       "      <td id=\"T_eb1ce_row1_col0\" class=\"data row1 col0\" >8386.000000</td>\n",
       "      <td id=\"T_eb1ce_row1_col1\" class=\"data row1 col1\" >8696.500000</td>\n",
       "      <td id=\"T_eb1ce_row1_col2\" class=\"data row1 col2\" >3.700000</td>\n",
       "    </tr>\n",
       "    <tr>\n",
       "      <th id=\"T_eb1ce_level0_row2\" class=\"row_heading level0 row2\" >2014</th>\n",
       "      <td id=\"T_eb1ce_row2_col0\" class=\"data row2 col0\" >9611.833333</td>\n",
       "      <td id=\"T_eb1ce_row2_col1\" class=\"data row2 col1\" >10212.250000</td>\n",
       "      <td id=\"T_eb1ce_row2_col2\" class=\"data row2 col2\" >6.200000</td>\n",
       "    </tr>\n",
       "    <tr>\n",
       "      <th id=\"T_eb1ce_level0_row3\" class=\"row_heading level0 row3\" >2015</th>\n",
       "      <td id=\"T_eb1ce_row3_col0\" class=\"data row3 col0\" >13004.714286</td>\n",
       "      <td id=\"T_eb1ce_row3_col1\" class=\"data row3 col1\" >16163.266667</td>\n",
       "      <td id=\"T_eb1ce_row3_col2\" class=\"data row3 col2\" >24.300000</td>\n",
       "    </tr>\n",
       "    <tr>\n",
       "      <th id=\"T_eb1ce_level0_row4\" class=\"row_heading level0 row4\" >2016</th>\n",
       "      <td id=\"T_eb1ce_row4_col0\" class=\"data row4 col0\" >15089.969697</td>\n",
       "      <td id=\"T_eb1ce_row4_col1\" class=\"data row4 col1\" >17513.869565</td>\n",
       "      <td id=\"T_eb1ce_row4_col2\" class=\"data row4 col2\" >16.100000</td>\n",
       "    </tr>\n",
       "    <tr>\n",
       "      <th id=\"T_eb1ce_level0_row5\" class=\"row_heading level0 row5\" >2017</th>\n",
       "      <td id=\"T_eb1ce_row5_col0\" class=\"data row5 col0\" >16277.833333</td>\n",
       "      <td id=\"T_eb1ce_row5_col1\" class=\"data row5 col1\" >18510.413793</td>\n",
       "      <td id=\"T_eb1ce_row5_col2\" class=\"data row5 col2\" >13.700000</td>\n",
       "    </tr>\n",
       "    <tr>\n",
       "      <th id=\"T_eb1ce_level0_row6\" class=\"row_heading level0 row6\" >2018</th>\n",
       "      <td id=\"T_eb1ce_row6_col0\" class=\"data row6 col0\" >17939.916667</td>\n",
       "      <td id=\"T_eb1ce_row6_col1\" class=\"data row6 col1\" >21430.962963</td>\n",
       "      <td id=\"T_eb1ce_row6_col2\" class=\"data row6 col2\" >19.500000</td>\n",
       "    </tr>\n",
       "    <tr>\n",
       "      <th id=\"T_eb1ce_level0_row7\" class=\"row_heading level0 row7\" >2019</th>\n",
       "      <td id=\"T_eb1ce_row7_col0\" class=\"data row7 col0\" >23259.470588</td>\n",
       "      <td id=\"T_eb1ce_row7_col1\" class=\"data row7 col1\" >27682.133333</td>\n",
       "      <td id=\"T_eb1ce_row7_col2\" class=\"data row7 col2\" >19.000000</td>\n",
       "    </tr>\n",
       "    <tr>\n",
       "      <th id=\"T_eb1ce_level0_row8\" class=\"row_heading level0 row8\" >2020</th>\n",
       "      <td id=\"T_eb1ce_row8_col0\" class=\"data row8 col0\" >27516.571429</td>\n",
       "      <td id=\"T_eb1ce_row8_col1\" class=\"data row8 col1\" >27099.000000</td>\n",
       "      <td id=\"T_eb1ce_row8_col2\" class=\"data row8 col2\" >-1.500000</td>\n",
       "    </tr>\n",
       "    <tr>\n",
       "      <th id=\"T_eb1ce_level0_row9\" class=\"row_heading level0 row9\" >2021</th>\n",
       "      <td id=\"T_eb1ce_row9_col0\" class=\"data row9 col0\" >28946.857143</td>\n",
       "      <td id=\"T_eb1ce_row9_col1\" class=\"data row9 col1\" >33529.250000</td>\n",
       "      <td id=\"T_eb1ce_row9_col2\" class=\"data row9 col2\" >15.800000</td>\n",
       "    </tr>\n",
       "    <tr>\n",
       "      <th id=\"T_eb1ce_level0_row10\" class=\"row_heading level0 row10\" >2022</th>\n",
       "      <td id=\"T_eb1ce_row10_col0\" class=\"data row10 col0\" >40556.500000</td>\n",
       "      <td id=\"T_eb1ce_row10_col1\" class=\"data row10 col1\" >42970.625000</td>\n",
       "      <td id=\"T_eb1ce_row10_col2\" class=\"data row10 col2\" >6.000000</td>\n",
       "    </tr>\n",
       "  </tbody>\n",
       "</table>\n"
      ],
      "text/plain": [
       "<pandas.io.formats.style.Styler at 0x19ff6169de0>"
      ]
     },
     "execution_count": 331,
     "metadata": {},
     "output_type": "execute_result"
    }
   ],
   "source": [
    "pivot = df_level_pivot.pivot(index='Year', columns='Level', values='Price')\n",
    "pivot['High to Comfort'] = round((pivot['Highline'] - pivot['Comfortline']) / pivot['Comfortline'] * 100, 1)\n",
    "pivot.style"
   ]
  },
  {
   "cell_type": "markdown",
   "metadata": {},
   "source": [
    "Highlines are more expensive than Comfortlines, but - based on the average prices - this difference changes over the years, and it is usually between 10 and 20%."
   ]
  },
  {
   "cell_type": "markdown",
   "metadata": {},
   "source": [
    "The below boxplot compares the price statistics of the 2 Level per year. The interquartile ranges are clearly different between 2015 and 2018, but they overlap in 2019, 2020 and 2022."
   ]
  },
  {
   "cell_type": "code",
   "execution_count": 332,
   "metadata": {},
   "outputs": [
    {
     "data": {
      "image/png": "[encoded data removed]",
      "text/plain": [
       "<Figure size 1152x576 with 1 Axes>"
      ]
     },
     "metadata": {
      "needs_background": "light"
     },
     "output_type": "display_data"
    }
   ],
   "source": [
    "plt.figure(figsize=(16,8))\n",
    "plt.title('Equipment level price stats per year', fontsize = 20)\n",
    "sns.boxplot(data=df_level_filtered, x=df_level_filtered.Year, y=df_level_filtered.Price, hue='Level').set(xlabel = 'Production Year', ylabel = 'Price (EUR)')\n",
    "plt.show()\n"
   ]
  },
  {
   "cell_type": "markdown",
   "metadata": {},
   "source": [
    "Let's try to find a reasonable selling price of a given car (from seller perspective). The setup to check is:\n",
    "- Production year = 2016\n",
    "- Power = 150 HP\n",
    "- Fuel type = Diesel\n",
    "- Mileage bracket = 170k kilometers\n",
    "- Level = Comfortline"
   ]
  },
  {
   "cell_type": "code",
   "execution_count": 333,
   "metadata": {},
   "outputs": [
    {
     "data": {
      "text/html": [
       "<div>\n",
       "<style scoped>\n",
       "    .dataframe tbody tr th:only-of-type {\n",
       "        vertical-align: middle;\n",
       "    }\n",
       "\n",
       "    .dataframe tbody tr th {\n",
       "        vertical-align: top;\n",
       "    }\n",
       "\n",
       "    .dataframe thead th {\n",
       "        text-align: right;\n",
       "    }\n",
       "</style>\n",
       "<table border=\"1\" class=\"dataframe\">\n",
       "  <thead>\n",
       "    <tr style=\"text-align: right;\">\n",
       "      <th></th>\n",
       "      <th>Mileage_bracket(KM)</th>\n",
       "      <th>Price</th>\n",
       "      <th>Year</th>\n",
       "      <th>Power(HP)</th>\n",
       "      <th>Mileage(KM)</th>\n",
       "      <th>Description</th>\n",
       "      <th>Link</th>\n",
       "      <th>Fuel_type</th>\n",
       "      <th>Level</th>\n",
       "    </tr>\n",
       "  </thead>\n",
       "  <tbody>\n",
       "    <tr>\n",
       "      <th>0</th>\n",
       "      <td>70000</td>\n",
       "      <td>1</td>\n",
       "      <td>1</td>\n",
       "      <td>1</td>\n",
       "      <td>1</td>\n",
       "      <td>1</td>\n",
       "      <td>1</td>\n",
       "      <td>1</td>\n",
       "      <td>1</td>\n",
       "    </tr>\n",
       "    <tr>\n",
       "      <th>1</th>\n",
       "      <td>90000</td>\n",
       "      <td>1</td>\n",
       "      <td>1</td>\n",
       "      <td>1</td>\n",
       "      <td>1</td>\n",
       "      <td>1</td>\n",
       "      <td>1</td>\n",
       "      <td>1</td>\n",
       "      <td>1</td>\n",
       "    </tr>\n",
       "    <tr>\n",
       "      <th>2</th>\n",
       "      <td>100000</td>\n",
       "      <td>3</td>\n",
       "      <td>3</td>\n",
       "      <td>3</td>\n",
       "      <td>3</td>\n",
       "      <td>3</td>\n",
       "      <td>3</td>\n",
       "      <td>3</td>\n",
       "      <td>3</td>\n",
       "    </tr>\n",
       "    <tr>\n",
       "      <th>3</th>\n",
       "      <td>110000</td>\n",
       "      <td>5</td>\n",
       "      <td>5</td>\n",
       "      <td>5</td>\n",
       "      <td>5</td>\n",
       "      <td>5</td>\n",
       "      <td>5</td>\n",
       "      <td>5</td>\n",
       "      <td>5</td>\n",
       "    </tr>\n",
       "    <tr>\n",
       "      <th>4</th>\n",
       "      <td>120000</td>\n",
       "      <td>1</td>\n",
       "      <td>1</td>\n",
       "      <td>1</td>\n",
       "      <td>1</td>\n",
       "      <td>1</td>\n",
       "      <td>1</td>\n",
       "      <td>1</td>\n",
       "      <td>1</td>\n",
       "    </tr>\n",
       "    <tr>\n",
       "      <th>5</th>\n",
       "      <td>130000</td>\n",
       "      <td>3</td>\n",
       "      <td>3</td>\n",
       "      <td>3</td>\n",
       "      <td>3</td>\n",
       "      <td>3</td>\n",
       "      <td>3</td>\n",
       "      <td>3</td>\n",
       "      <td>3</td>\n",
       "    </tr>\n",
       "    <tr>\n",
       "      <th>6</th>\n",
       "      <td>150000</td>\n",
       "      <td>1</td>\n",
       "      <td>1</td>\n",
       "      <td>1</td>\n",
       "      <td>1</td>\n",
       "      <td>1</td>\n",
       "      <td>1</td>\n",
       "      <td>1</td>\n",
       "      <td>1</td>\n",
       "    </tr>\n",
       "    <tr>\n",
       "      <th>7</th>\n",
       "      <td>160000</td>\n",
       "      <td>1</td>\n",
       "      <td>1</td>\n",
       "      <td>1</td>\n",
       "      <td>1</td>\n",
       "      <td>1</td>\n",
       "      <td>1</td>\n",
       "      <td>1</td>\n",
       "      <td>1</td>\n",
       "    </tr>\n",
       "    <tr>\n",
       "      <th>8</th>\n",
       "      <td>170000</td>\n",
       "      <td>1</td>\n",
       "      <td>1</td>\n",
       "      <td>1</td>\n",
       "      <td>1</td>\n",
       "      <td>1</td>\n",
       "      <td>1</td>\n",
       "      <td>1</td>\n",
       "      <td>1</td>\n",
       "    </tr>\n",
       "    <tr>\n",
       "      <th>9</th>\n",
       "      <td>180000</td>\n",
       "      <td>1</td>\n",
       "      <td>1</td>\n",
       "      <td>1</td>\n",
       "      <td>1</td>\n",
       "      <td>1</td>\n",
       "      <td>1</td>\n",
       "      <td>1</td>\n",
       "      <td>1</td>\n",
       "    </tr>\n",
       "    <tr>\n",
       "      <th>10</th>\n",
       "      <td>190000</td>\n",
       "      <td>2</td>\n",
       "      <td>2</td>\n",
       "      <td>2</td>\n",
       "      <td>2</td>\n",
       "      <td>2</td>\n",
       "      <td>2</td>\n",
       "      <td>2</td>\n",
       "      <td>2</td>\n",
       "    </tr>\n",
       "    <tr>\n",
       "      <th>11</th>\n",
       "      <td>200000</td>\n",
       "      <td>1</td>\n",
       "      <td>1</td>\n",
       "      <td>1</td>\n",
       "      <td>1</td>\n",
       "      <td>1</td>\n",
       "      <td>1</td>\n",
       "      <td>1</td>\n",
       "      <td>1</td>\n",
       "    </tr>\n",
       "    <tr>\n",
       "      <th>12</th>\n",
       "      <td>230000</td>\n",
       "      <td>1</td>\n",
       "      <td>1</td>\n",
       "      <td>1</td>\n",
       "      <td>1</td>\n",
       "      <td>1</td>\n",
       "      <td>1</td>\n",
       "      <td>1</td>\n",
       "      <td>1</td>\n",
       "    </tr>\n",
       "    <tr>\n",
       "      <th>13</th>\n",
       "      <td>270000</td>\n",
       "      <td>1</td>\n",
       "      <td>1</td>\n",
       "      <td>1</td>\n",
       "      <td>1</td>\n",
       "      <td>1</td>\n",
       "      <td>1</td>\n",
       "      <td>1</td>\n",
       "      <td>1</td>\n",
       "    </tr>\n",
       "  </tbody>\n",
       "</table>\n",
       "</div>"
      ],
      "text/plain": [
       "    Mileage_bracket(KM)  Price  Year  Power(HP)  Mileage(KM)  Description  \\\n",
       "0                 70000      1     1          1            1            1   \n",
       "1                 90000      1     1          1            1            1   \n",
       "2                100000      3     3          3            3            3   \n",
       "3                110000      5     5          5            5            5   \n",
       "4                120000      1     1          1            1            1   \n",
       "5                130000      3     3          3            3            3   \n",
       "6                150000      1     1          1            1            1   \n",
       "7                160000      1     1          1            1            1   \n",
       "8                170000      1     1          1            1            1   \n",
       "9                180000      1     1          1            1            1   \n",
       "10               190000      2     2          2            2            2   \n",
       "11               200000      1     1          1            1            1   \n",
       "12               230000      1     1          1            1            1   \n",
       "13               270000      1     1          1            1            1   \n",
       "\n",
       "    Link  Fuel_type  Level  \n",
       "0      1          1      1  \n",
       "1      1          1      1  \n",
       "2      3          3      3  \n",
       "3      5          5      5  \n",
       "4      1          1      1  \n",
       "5      3          3      3  \n",
       "6      1          1      1  \n",
       "7      1          1      1  \n",
       "8      1          1      1  \n",
       "9      1          1      1  \n",
       "10     2          2      2  \n",
       "11     1          1      1  \n",
       "12     1          1      1  \n",
       "13     1          1      1  "
      ]
     },
     "execution_count": 333,
     "metadata": {},
     "output_type": "execute_result"
    }
   ],
   "source": [
    "df_test = df[(df.Level == 'Comfortline') & (df.Year == 2016) & (df['Power(HP)'] == 150) & (df.Fuel_type == 'Diesel')]\n",
    "df_test.groupby('Mileage_bracket(KM)').count().reset_index()"
   ]
  },
  {
   "cell_type": "markdown",
   "metadata": {},
   "source": [
    "There is only 1 data for this given setup. The mileage brackets above and below contain very few data too, so it's better to widen the scope regarding the production year and the mileages:\n",
    "- Production year: 2015 - 2017\n",
    "- Mileage bracket: 160k - 180k"
   ]
  },
  {
   "cell_type": "code",
   "execution_count": 334,
   "metadata": {},
   "outputs": [
    {
     "data": {
      "text/plain": [
       "Price                  8\n",
       "Year                   8\n",
       "Power(HP)              8\n",
       "Mileage(KM)            8\n",
       "Description            8\n",
       "Link                   8\n",
       "Fuel_type              8\n",
       "Mileage_bracket(KM)    8\n",
       "Level                  8\n",
       "dtype: int64"
      ]
     },
     "execution_count": 334,
     "metadata": {},
     "output_type": "execute_result"
    }
   ],
   "source": [
    "df_test = df[(df.Level == 'Comfortline') & (df['Power(HP)'] == 150) & (df.Fuel_type == 'Diesel')]\n",
    "df_test = df_test[(df_test.Year == 2015) | (df_test.Year == 2016) | (df_test.Year == 2017)]\n",
    "df_test = df_test[(df_test['Mileage_bracket(KM)'] == 160000) | (df_test['Mileage_bracket(KM)'] == 170000) | (df_test['Mileage_bracket(KM)'] == 180000)]\n",
    "\n",
    "df_test.count()"
   ]
  },
  {
   "cell_type": "markdown",
   "metadata": {},
   "source": [
    "The new filter leaves 8 lines in the dataset. It is still very low amount of data, but the further widening of the scope would distort our results."
   ]
  },
  {
   "cell_type": "code",
   "execution_count": 335,
   "metadata": {},
   "outputs": [
    {
     "data": {
      "image/png": "[encoded data removed]",
      "text/plain": [
       "<Figure size 432x288 with 1 Axes>"
      ]
     },
     "metadata": {
      "needs_background": "light"
     },
     "output_type": "display_data"
    }
   ],
   "source": [
    "plt.boxplot(df_test.Price)\n",
    "plt.title('Price stats for the example car', fontsize=15)\n",
    "plt.ylabel('Price (EUR)')\n",
    "plt.show()"
   ]
  },
  {
   "cell_type": "code",
   "execution_count": 336,
   "metadata": {},
   "outputs": [
    {
     "data": {
      "image/png": "[encoded data removed]",
      "text/plain": [
       "<Figure size 432x288 with 1 Axes>"
      ]
     },
     "metadata": {
      "needs_background": "light"
     },
     "output_type": "display_data"
    }
   ],
   "source": [
    "sns.scatterplot(x=df_test['Mileage_bracket(KM)'], y=df_test.Price, hue=df_test.Year)\n",
    "plt.title('Prices per mileage bracket and year (example car)', fontsize=15)\n",
    "plt.xlabel('Mileage bracket (kilometer)')\n",
    "plt.ylabel('Price (EUR)')\n",
    "plt.xticks([160000, 170000, 180000])\n",
    "plt.show()"
   ]
  },
  {
   "cell_type": "code",
   "execution_count": 337,
   "metadata": {},
   "outputs": [
    {
     "name": "stdout",
     "output_type": "stream",
     "text": [
      "14301.0\n",
      "15337.25\n"
     ]
    }
   ],
   "source": [
    "print(df_test.Price.median())\n",
    "print(df_test.Price.quantile(0.75))"
   ]
  },
  {
   "cell_type": "markdown",
   "metadata": {},
   "source": [
    "The low amount of data makes it difficult to draw conclusions. Based on the above Boxplot, half of the cars with such setup are sold above 14301 EUR, and 25% is sold above 15337 EUR. But, considering merley the mileage bracket of 170k kilometers, only a car from 2017 is above 15k EUR. A selling price depends on many specific factors. This dataset supports a possible selling price of around 14500 EUR."
   ]
  },
  {
   "cell_type": "markdown",
   "metadata": {},
   "source": [
    "Let's try to check how much do the years and the mileages cost. The setup is:\n",
    "- Level: Comfortline\n",
    "- Power: 150 HP\n",
    "- Fuel type: Diesel"
   ]
  },
  {
   "cell_type": "markdown",
   "metadata": {},
   "source": [
    "To check the cost of Mileages, fix the year on 2016."
   ]
  },
  {
   "cell_type": "code",
   "execution_count": 338,
   "metadata": {},
   "outputs": [],
   "source": [
    "df_test2 = df[(df.Level == 'Comfortline') & (df['Power(HP)'] == 150) & (df.Fuel_type == 'Diesel')]"
   ]
  },
  {
   "cell_type": "code",
   "execution_count": 339,
   "metadata": {},
   "outputs": [],
   "source": [
    "df_test_mileage = df_test2[df_test2.Year == 2016]\n",
    "df_test_mileage = df_test_mileage[(df_test_mileage['Mileage_bracket(KM)'] > 130000) & (df_test_mileage['Mileage_bracket(KM)'] < 200000)]"
   ]
  },
  {
   "cell_type": "code",
   "execution_count": 340,
   "metadata": {},
   "outputs": [
    {
     "data": {
      "text/html": [
       "<div>\n",
       "<style scoped>\n",
       "    .dataframe tbody tr th:only-of-type {\n",
       "        vertical-align: middle;\n",
       "    }\n",
       "\n",
       "    .dataframe tbody tr th {\n",
       "        vertical-align: top;\n",
       "    }\n",
       "\n",
       "    .dataframe thead th {\n",
       "        text-align: right;\n",
       "    }\n",
       "</style>\n",
       "<table border=\"1\" class=\"dataframe\">\n",
       "  <thead>\n",
       "    <tr style=\"text-align: right;\">\n",
       "      <th></th>\n",
       "      <th>Mileage_bracket(KM)</th>\n",
       "      <th>Price</th>\n",
       "      <th>Year</th>\n",
       "      <th>Power(HP)</th>\n",
       "      <th>Mileage(KM)</th>\n",
       "      <th>Description</th>\n",
       "      <th>Link</th>\n",
       "      <th>Fuel_type</th>\n",
       "      <th>Level</th>\n",
       "    </tr>\n",
       "  </thead>\n",
       "  <tbody>\n",
       "    <tr>\n",
       "      <th>0</th>\n",
       "      <td>150000</td>\n",
       "      <td>1</td>\n",
       "      <td>1</td>\n",
       "      <td>1</td>\n",
       "      <td>1</td>\n",
       "      <td>1</td>\n",
       "      <td>1</td>\n",
       "      <td>1</td>\n",
       "      <td>1</td>\n",
       "    </tr>\n",
       "    <tr>\n",
       "      <th>1</th>\n",
       "      <td>160000</td>\n",
       "      <td>1</td>\n",
       "      <td>1</td>\n",
       "      <td>1</td>\n",
       "      <td>1</td>\n",
       "      <td>1</td>\n",
       "      <td>1</td>\n",
       "      <td>1</td>\n",
       "      <td>1</td>\n",
       "    </tr>\n",
       "    <tr>\n",
       "      <th>2</th>\n",
       "      <td>170000</td>\n",
       "      <td>1</td>\n",
       "      <td>1</td>\n",
       "      <td>1</td>\n",
       "      <td>1</td>\n",
       "      <td>1</td>\n",
       "      <td>1</td>\n",
       "      <td>1</td>\n",
       "      <td>1</td>\n",
       "    </tr>\n",
       "    <tr>\n",
       "      <th>3</th>\n",
       "      <td>180000</td>\n",
       "      <td>1</td>\n",
       "      <td>1</td>\n",
       "      <td>1</td>\n",
       "      <td>1</td>\n",
       "      <td>1</td>\n",
       "      <td>1</td>\n",
       "      <td>1</td>\n",
       "      <td>1</td>\n",
       "    </tr>\n",
       "    <tr>\n",
       "      <th>4</th>\n",
       "      <td>190000</td>\n",
       "      <td>2</td>\n",
       "      <td>2</td>\n",
       "      <td>2</td>\n",
       "      <td>2</td>\n",
       "      <td>2</td>\n",
       "      <td>2</td>\n",
       "      <td>2</td>\n",
       "      <td>2</td>\n",
       "    </tr>\n",
       "  </tbody>\n",
       "</table>\n",
       "</div>"
      ],
      "text/plain": [
       "   Mileage_bracket(KM)  Price  Year  Power(HP)  Mileage(KM)  Description  \\\n",
       "0               150000      1     1          1            1            1   \n",
       "1               160000      1     1          1            1            1   \n",
       "2               170000      1     1          1            1            1   \n",
       "3               180000      1     1          1            1            1   \n",
       "4               190000      2     2          2            2            2   \n",
       "\n",
       "   Link  Fuel_type  Level  \n",
       "0     1          1      1  \n",
       "1     1          1      1  \n",
       "2     1          1      1  \n",
       "3     1          1      1  \n",
       "4     2          2      2  "
      ]
     },
     "execution_count": 340,
     "metadata": {},
     "output_type": "execute_result"
    }
   ],
   "source": [
    "df_test_mileage.groupby('Mileage_bracket(KM)').count().reset_index()"
   ]
  },
  {
   "cell_type": "code",
   "execution_count": 341,
   "metadata": {},
   "outputs": [
    {
     "data": {
      "text/html": [
       "<div>\n",
       "<style scoped>\n",
       "    .dataframe tbody tr th:only-of-type {\n",
       "        vertical-align: middle;\n",
       "    }\n",
       "\n",
       "    .dataframe tbody tr th {\n",
       "        vertical-align: top;\n",
       "    }\n",
       "\n",
       "    .dataframe thead th {\n",
       "        text-align: right;\n",
       "    }\n",
       "</style>\n",
       "<table border=\"1\" class=\"dataframe\">\n",
       "  <thead>\n",
       "    <tr style=\"text-align: right;\">\n",
       "      <th></th>\n",
       "      <th>Mileage_bracket(KM)</th>\n",
       "      <th>Price</th>\n",
       "      <th>Year</th>\n",
       "      <th>Power(HP)</th>\n",
       "      <th>Mileage(KM)</th>\n",
       "    </tr>\n",
       "  </thead>\n",
       "  <tbody>\n",
       "    <tr>\n",
       "      <th>0</th>\n",
       "      <td>150000</td>\n",
       "      <td>15812.0</td>\n",
       "      <td>2016.0</td>\n",
       "      <td>150.0</td>\n",
       "      <td>155659.0</td>\n",
       "    </tr>\n",
       "    <tr>\n",
       "      <th>1</th>\n",
       "      <td>160000</td>\n",
       "      <td>15791.0</td>\n",
       "      <td>2016.0</td>\n",
       "      <td>150.0</td>\n",
       "      <td>165529.0</td>\n",
       "    </tr>\n",
       "    <tr>\n",
       "      <th>2</th>\n",
       "      <td>170000</td>\n",
       "      <td>13837.0</td>\n",
       "      <td>2016.0</td>\n",
       "      <td>150.0</td>\n",
       "      <td>176000.0</td>\n",
       "    </tr>\n",
       "    <tr>\n",
       "      <th>3</th>\n",
       "      <td>180000</td>\n",
       "      <td>12535.0</td>\n",
       "      <td>2016.0</td>\n",
       "      <td>150.0</td>\n",
       "      <td>182500.0</td>\n",
       "    </tr>\n",
       "    <tr>\n",
       "      <th>4</th>\n",
       "      <td>190000</td>\n",
       "      <td>12546.0</td>\n",
       "      <td>2016.0</td>\n",
       "      <td>150.0</td>\n",
       "      <td>195000.0</td>\n",
       "    </tr>\n",
       "  </tbody>\n",
       "</table>\n",
       "</div>"
      ],
      "text/plain": [
       "   Mileage_bracket(KM)    Price    Year  Power(HP)  Mileage(KM)\n",
       "0               150000  15812.0  2016.0      150.0     155659.0\n",
       "1               160000  15791.0  2016.0      150.0     165529.0\n",
       "2               170000  13837.0  2016.0      150.0     176000.0\n",
       "3               180000  12535.0  2016.0      150.0     182500.0\n",
       "4               190000  12546.0  2016.0      150.0     195000.0"
      ]
     },
     "execution_count": 341,
     "metadata": {},
     "output_type": "execute_result"
    }
   ],
   "source": [
    "df_test_mileage = df_test_mileage.groupby('Mileage_bracket(KM)').mean().reset_index()\n",
    "df_test_mileage"
   ]
  },
  {
   "cell_type": "code",
   "execution_count": 342,
   "metadata": {},
   "outputs": [
    {
     "data": {
      "text/plain": [
       "816.5"
      ]
     },
     "execution_count": 342,
     "metadata": {},
     "output_type": "execute_result"
    }
   ],
   "source": [
    "(df_test_mileage.Price[0] - df_test_mileage.Price[4]) / 4"
   ]
  },
  {
   "cell_type": "markdown",
   "metadata": {},
   "source": [
    "This dataset shows an average cost of 816 EUR / 10000 kilometers between 130k and 200k mileage, for the cars which were produced in 2016."
   ]
  },
  {
   "cell_type": "markdown",
   "metadata": {},
   "source": [
    "Increase the years to 2015 - 2017 to have more data:"
   ]
  },
  {
   "cell_type": "code",
   "execution_count": 343,
   "metadata": {},
   "outputs": [],
   "source": [
    "df_test_mileage_inc = df_test2[(df_test2.Year == 2015) | (df_test2.Year == 2016) | (df_test2.Year == 2017)]"
   ]
  },
  {
   "cell_type": "code",
   "execution_count": 344,
   "metadata": {},
   "outputs": [],
   "source": [
    "df_test_mileage_inc = df_test_mileage_inc[(df_test_mileage_inc['Mileage_bracket(KM)'] > 130000) & (df_test_mileage_inc['Mileage_bracket(KM)'] < 200000)]"
   ]
  },
  {
   "cell_type": "code",
   "execution_count": 345,
   "metadata": {},
   "outputs": [
    {
     "data": {
      "text/html": [
       "<div>\n",
       "<style scoped>\n",
       "    .dataframe tbody tr th:only-of-type {\n",
       "        vertical-align: middle;\n",
       "    }\n",
       "\n",
       "    .dataframe tbody tr th {\n",
       "        vertical-align: top;\n",
       "    }\n",
       "\n",
       "    .dataframe thead th {\n",
       "        text-align: right;\n",
       "    }\n",
       "</style>\n",
       "<table border=\"1\" class=\"dataframe\">\n",
       "  <thead>\n",
       "    <tr style=\"text-align: right;\">\n",
       "      <th></th>\n",
       "      <th>Mileage_bracket(KM)</th>\n",
       "      <th>Price</th>\n",
       "      <th>Year</th>\n",
       "      <th>Power(HP)</th>\n",
       "      <th>Mileage(KM)</th>\n",
       "      <th>Description</th>\n",
       "      <th>Link</th>\n",
       "      <th>Fuel_type</th>\n",
       "      <th>Level</th>\n",
       "    </tr>\n",
       "  </thead>\n",
       "  <tbody>\n",
       "    <tr>\n",
       "      <th>0</th>\n",
       "      <td>140000</td>\n",
       "      <td>2</td>\n",
       "      <td>2</td>\n",
       "      <td>2</td>\n",
       "      <td>2</td>\n",
       "      <td>2</td>\n",
       "      <td>2</td>\n",
       "      <td>2</td>\n",
       "      <td>2</td>\n",
       "    </tr>\n",
       "    <tr>\n",
       "      <th>1</th>\n",
       "      <td>150000</td>\n",
       "      <td>6</td>\n",
       "      <td>6</td>\n",
       "      <td>6</td>\n",
       "      <td>6</td>\n",
       "      <td>6</td>\n",
       "      <td>6</td>\n",
       "      <td>6</td>\n",
       "      <td>6</td>\n",
       "    </tr>\n",
       "    <tr>\n",
       "      <th>2</th>\n",
       "      <td>160000</td>\n",
       "      <td>2</td>\n",
       "      <td>2</td>\n",
       "      <td>2</td>\n",
       "      <td>2</td>\n",
       "      <td>2</td>\n",
       "      <td>2</td>\n",
       "      <td>2</td>\n",
       "      <td>2</td>\n",
       "    </tr>\n",
       "    <tr>\n",
       "      <th>3</th>\n",
       "      <td>170000</td>\n",
       "      <td>4</td>\n",
       "      <td>4</td>\n",
       "      <td>4</td>\n",
       "      <td>4</td>\n",
       "      <td>4</td>\n",
       "      <td>4</td>\n",
       "      <td>4</td>\n",
       "      <td>4</td>\n",
       "    </tr>\n",
       "    <tr>\n",
       "      <th>4</th>\n",
       "      <td>180000</td>\n",
       "      <td>2</td>\n",
       "      <td>2</td>\n",
       "      <td>2</td>\n",
       "      <td>2</td>\n",
       "      <td>2</td>\n",
       "      <td>2</td>\n",
       "      <td>2</td>\n",
       "      <td>2</td>\n",
       "    </tr>\n",
       "    <tr>\n",
       "      <th>5</th>\n",
       "      <td>190000</td>\n",
       "      <td>4</td>\n",
       "      <td>4</td>\n",
       "      <td>4</td>\n",
       "      <td>4</td>\n",
       "      <td>4</td>\n",
       "      <td>4</td>\n",
       "      <td>4</td>\n",
       "      <td>4</td>\n",
       "    </tr>\n",
       "  </tbody>\n",
       "</table>\n",
       "</div>"
      ],
      "text/plain": [
       "   Mileage_bracket(KM)  Price  Year  Power(HP)  Mileage(KM)  Description  \\\n",
       "0               140000      2     2          2            2            2   \n",
       "1               150000      6     6          6            6            6   \n",
       "2               160000      2     2          2            2            2   \n",
       "3               170000      4     4          4            4            4   \n",
       "4               180000      2     2          2            2            2   \n",
       "5               190000      4     4          4            4            4   \n",
       "\n",
       "   Link  Fuel_type  Level  \n",
       "0     2          2      2  \n",
       "1     6          6      6  \n",
       "2     2          2      2  \n",
       "3     4          4      4  \n",
       "4     2          2      2  \n",
       "5     4          4      4  "
      ]
     },
     "execution_count": 345,
     "metadata": {},
     "output_type": "execute_result"
    }
   ],
   "source": [
    "df_test_mileage_inc.groupby('Mileage_bracket(KM)').count().reset_index()"
   ]
  },
  {
   "cell_type": "code",
   "execution_count": 346,
   "metadata": {},
   "outputs": [
    {
     "data": {
      "text/html": [
       "<div>\n",
       "<style scoped>\n",
       "    .dataframe tbody tr th:only-of-type {\n",
       "        vertical-align: middle;\n",
       "    }\n",
       "\n",
       "    .dataframe tbody tr th {\n",
       "        vertical-align: top;\n",
       "    }\n",
       "\n",
       "    .dataframe thead th {\n",
       "        text-align: right;\n",
       "    }\n",
       "</style>\n",
       "<table border=\"1\" class=\"dataframe\">\n",
       "  <thead>\n",
       "    <tr style=\"text-align: right;\">\n",
       "      <th></th>\n",
       "      <th>Mileage_bracket(KM)</th>\n",
       "      <th>Price</th>\n",
       "      <th>Year</th>\n",
       "      <th>Power(HP)</th>\n",
       "      <th>Mileage(KM)</th>\n",
       "    </tr>\n",
       "  </thead>\n",
       "  <tbody>\n",
       "    <tr>\n",
       "      <th>0</th>\n",
       "      <td>140000</td>\n",
       "      <td>16837.000000</td>\n",
       "      <td>2017.000000</td>\n",
       "      <td>150.0</td>\n",
       "      <td>145693.50</td>\n",
       "    </tr>\n",
       "    <tr>\n",
       "      <th>1</th>\n",
       "      <td>150000</td>\n",
       "      <td>15704.666667</td>\n",
       "      <td>2016.833333</td>\n",
       "      <td>150.0</td>\n",
       "      <td>156210.00</td>\n",
       "    </tr>\n",
       "    <tr>\n",
       "      <th>2</th>\n",
       "      <td>160000</td>\n",
       "      <td>16034.000000</td>\n",
       "      <td>2016.500000</td>\n",
       "      <td>150.0</td>\n",
       "      <td>165806.50</td>\n",
       "    </tr>\n",
       "    <tr>\n",
       "      <th>3</th>\n",
       "      <td>170000</td>\n",
       "      <td>14406.250000</td>\n",
       "      <td>2015.750000</td>\n",
       "      <td>150.0</td>\n",
       "      <td>176113.75</td>\n",
       "    </tr>\n",
       "    <tr>\n",
       "      <th>4</th>\n",
       "      <td>180000</td>\n",
       "      <td>13116.500000</td>\n",
       "      <td>2016.500000</td>\n",
       "      <td>150.0</td>\n",
       "      <td>181750.00</td>\n",
       "    </tr>\n",
       "    <tr>\n",
       "      <th>5</th>\n",
       "      <td>190000</td>\n",
       "      <td>13533.500000</td>\n",
       "      <td>2016.500000</td>\n",
       "      <td>150.0</td>\n",
       "      <td>195529.50</td>\n",
       "    </tr>\n",
       "  </tbody>\n",
       "</table>\n",
       "</div>"
      ],
      "text/plain": [
       "   Mileage_bracket(KM)         Price         Year  Power(HP)  Mileage(KM)\n",
       "0               140000  16837.000000  2017.000000      150.0    145693.50\n",
       "1               150000  15704.666667  2016.833333      150.0    156210.00\n",
       "2               160000  16034.000000  2016.500000      150.0    165806.50\n",
       "3               170000  14406.250000  2015.750000      150.0    176113.75\n",
       "4               180000  13116.500000  2016.500000      150.0    181750.00\n",
       "5               190000  13533.500000  2016.500000      150.0    195529.50"
      ]
     },
     "execution_count": 346,
     "metadata": {},
     "output_type": "execute_result"
    }
   ],
   "source": [
    "df_test_mileage_inc = df_test_mileage_inc.groupby('Mileage_bracket(KM)').mean().reset_index()\n",
    "df_test_mileage_inc"
   ]
  },
  {
   "cell_type": "code",
   "execution_count": 347,
   "metadata": {},
   "outputs": [
    {
     "data": {
      "text/plain": [
       "660.7"
      ]
     },
     "execution_count": 347,
     "metadata": {},
     "output_type": "execute_result"
    }
   ],
   "source": [
    "(df_test_mileage_inc.Price[0] - df_test_mileage_inc.Price[5]) / 5"
   ]
  },
  {
   "cell_type": "markdown",
   "metadata": {},
   "source": [
    "The dataset shows an average cost of 660 EUR / 10000 kilometers between 130k and 200k mileage, for the cars which were produced in 2015 - 2017."
   ]
  },
  {
   "cell_type": "markdown",
   "metadata": {},
   "source": [
    "To check how much a year cost, fix the mileages between 160k and 180k:"
   ]
  },
  {
   "cell_type": "code",
   "execution_count": 348,
   "metadata": {},
   "outputs": [],
   "source": [
    "df_test_year = df_test2[(df_test2['Mileage_bracket(KM)'] > 160000) & (df_test2['Mileage_bracket(KM)'] < 180000)]"
   ]
  },
  {
   "cell_type": "code",
   "execution_count": 349,
   "metadata": {},
   "outputs": [
    {
     "data": {
      "text/html": [
       "<div>\n",
       "<style scoped>\n",
       "    .dataframe tbody tr th:only-of-type {\n",
       "        vertical-align: middle;\n",
       "    }\n",
       "\n",
       "    .dataframe tbody tr th {\n",
       "        vertical-align: top;\n",
       "    }\n",
       "\n",
       "    .dataframe thead th {\n",
       "        text-align: right;\n",
       "    }\n",
       "</style>\n",
       "<table border=\"1\" class=\"dataframe\">\n",
       "  <thead>\n",
       "    <tr style=\"text-align: right;\">\n",
       "      <th></th>\n",
       "      <th>Year</th>\n",
       "      <th>Price</th>\n",
       "      <th>Power(HP)</th>\n",
       "      <th>Mileage(KM)</th>\n",
       "      <th>Mileage_bracket(KM)</th>\n",
       "    </tr>\n",
       "  </thead>\n",
       "  <tbody>\n",
       "    <tr>\n",
       "      <th>0</th>\n",
       "      <td>2015</td>\n",
       "      <td>14301.000000</td>\n",
       "      <td>150.0</td>\n",
       "      <td>174250.000000</td>\n",
       "      <td>170000.0</td>\n",
       "    </tr>\n",
       "    <tr>\n",
       "      <th>1</th>\n",
       "      <td>2016</td>\n",
       "      <td>13837.000000</td>\n",
       "      <td>150.0</td>\n",
       "      <td>176000.000000</td>\n",
       "      <td>170000.0</td>\n",
       "    </tr>\n",
       "    <tr>\n",
       "      <th>2</th>\n",
       "      <td>2017</td>\n",
       "      <td>15186.000000</td>\n",
       "      <td>150.0</td>\n",
       "      <td>179955.000000</td>\n",
       "      <td>170000.0</td>\n",
       "    </tr>\n",
       "    <tr>\n",
       "      <th>3</th>\n",
       "      <td>2018</td>\n",
       "      <td>15386.333333</td>\n",
       "      <td>150.0</td>\n",
       "      <td>174447.333333</td>\n",
       "      <td>170000.0</td>\n",
       "    </tr>\n",
       "  </tbody>\n",
       "</table>\n",
       "</div>"
      ],
      "text/plain": [
       "   Year         Price  Power(HP)    Mileage(KM)  Mileage_bracket(KM)\n",
       "0  2015  14301.000000      150.0  174250.000000             170000.0\n",
       "1  2016  13837.000000      150.0  176000.000000             170000.0\n",
       "2  2017  15186.000000      150.0  179955.000000             170000.0\n",
       "3  2018  15386.333333      150.0  174447.333333             170000.0"
      ]
     },
     "execution_count": 349,
     "metadata": {},
     "output_type": "execute_result"
    }
   ],
   "source": [
    "df_test_year = df_test_year.groupby('Year').mean().reset_index()\n",
    "df_test_year"
   ]
  },
  {
   "cell_type": "code",
   "execution_count": 351,
   "metadata": {},
   "outputs": [
    {
     "data": {
      "text/plain": [
       "361.777777777778"
      ]
     },
     "execution_count": 351,
     "metadata": {},
     "output_type": "execute_result"
    }
   ],
   "source": [
    "(df_test_year.Price[3] - df_test_year.Price[0]) / 3"
   ]
  },
  {
   "cell_type": "markdown",
   "metadata": {},
   "source": [
    "The dataset shows an average cost of 362 EUR / year for the given setup."
   ]
  }
 ],
 "metadata": {
  "kernelspec": {
   "display_name": "Python 3.10.5 64-bit",
   "language": "python",
   "name": "python3"
  },
  "language_info": {
   "codemirror_mode": {
    "name": "ipython",
    "version": 3
   },
   "file_extension": ".py",
   "mimetype": "text/x-python",
   "name": "python",
   "nbconvert_exporter": "python",
   "pygments_lexer": "ipython3",
   "version": "3.10.5"
  },
  "orig_nbformat": 4,
  "vscode": {
   "interpreter": {
    "hash": "cffef59f0bab976b1e8983a0cec1228b8be33a241079789d4b0646b74d1de326"
   }
  }
 },
 "nbformat": 4,
 "nbformat_minor": 2
}
